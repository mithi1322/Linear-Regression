{
 "cells": [
  {
   "cell_type": "markdown",
   "id": "aa823b9d-c2a1-4d9e-9517-00291e832921",
   "metadata": {},
   "source": [
    "Q1. Explain the difference between simple linear regression and multiple linear regression. Provide an\n",
    "example of each."
   ]
  },
  {
   "cell_type": "code",
   "execution_count": null,
   "id": "5cfddc92-aac6-48f4-bb2b-076bdf31c625",
   "metadata": {},
   "outputs": [],
   "source": [
    "# Answer:\n",
    "'''\n",
    "Simple linear regression involves only one independent variable and a linear relationship with the dependent variable. \n",
    "It assumes a straight-line relationship between the independent variable and the dependent variable. For example, \n",
    "predicting house prices based on the square footage of the house can be modeled using simple linear regression.\n",
    "\n",
    "Multiple linear regression, on the other hand, involves two or more independent variables to predict the dependent variable. \n",
    "It allows for more complex relationships between the independent variables and the dependent variable. For example,\n",
    "predicting a person's salary based on their age, years of experience, and education level can be modeled using multiple linear regression.\n",
    "\n",
    "Example of Simple Linear Regression:\n",
    "Suppose we want to predict a student's final exam score based on the number of hours they studied. Here, the number of hours studied is the independent variable, \n",
    "and the final exam score is the dependent variable. We can use simple linear regression to model this relationship and predict a student's final exam score based on the number of hours they studied.\n",
    "\n",
    "Example of Multiple Linear Regression:\n",
    "Suppose we want to predict the price of a house based on various factors such as the square footage, number of bedrooms, and location.\n",
    "Here, the square footage, number of bedrooms, and location are the independent variables, and the house price is the dependent variable. \n",
    "We can use multiple linear regression to model this relationship and predict the price of a house based on these factors.\n",
    "'''"
   ]
  },
  {
   "cell_type": "markdown",
   "id": "c89496ee-aa27-4dc6-92c2-127ebf03acee",
   "metadata": {},
   "source": [
    "Q2. Discuss the assumptions of linear regression. How can you check whether these assumptions hold in\n",
    "a given dataset?"
   ]
  },
  {
   "cell_type": "code",
   "execution_count": null,
   "id": "e4699de4-09e8-4a4c-ba4f-ecc7c3d9ec37",
   "metadata": {},
   "outputs": [],
   "source": [
    "# Answer:\n",
    "'''\n",
    "Linearity: The relationship between the independent variables and the dependent variable is linear.\n",
    "            Independence: The observations in the dataset are independent of each other.\n",
    "Homoscedasticity: The variance of the residuals is constant across all levels of the independent variables.\n",
    "                    Normality: The residuals are normally distributed.\n",
    "No multicollinearity: The independent variables are not highly correlated with each other.\n",
    "\n",
    "To check whether these assumptions hold in a given dataset, we can use various diagnostic techniques:\n",
    "\n",
    "Plotting the residuals against the fitted values to check for patterns or non-linearity.\n",
    "Constructing a Q-Q plot or histogram of the residuals to check for normality.\n",
    "Performing a variance inflation factor (VIF) analysis to detect multicollinearity.\n",
    "Conducting hypothesis tests or using statistical measures to assess the assumptions.\n",
    "'''"
   ]
  },
  {
   "cell_type": "markdown",
   "id": "af9aeee5-48fb-4ecf-83dd-dc61dbc0f2c3",
   "metadata": {},
   "source": [
    "Q3. How do you interpret the slope and intercept in a linear regression model? Provide an example using\n",
    "a real-world scenario."
   ]
  },
  {
   "cell_type": "code",
   "execution_count": null,
   "id": "fd308ca2-4ac6-412c-9b50-4d76399d744e",
   "metadata": {},
   "outputs": [],
   "source": [
    "# Answer:\n",
    "'''\n",
    " In a linear regression model, the slope represents the change in the dependent variable for a unit change in the independent variable, holding other variables constant. \n",
    " It indicates the steepness of the linear relationship between the variables. The intercept represents the value of the dependent variable when all independent variables are zero. \n",
    " It is the starting point of the regression line.\n",
    "\n",
    "Example: Suppose we have a linear regression model to predict the sales of a product based on its advertising spend. \n",
    "The slope of the regression line indicates how much the sales increase for each unit increase in advertising spend, assuming other factors remain constant. \n",
    "The intercept represents the estimated sales when the advertising spend is zero.\n",
    "\n",
    "Interpretation: For every $1 increase in advertising spend, the sales of the product increase by 10 units. The estimated sales when the advertising spend is zero is 50 units.\n",
    "'''"
   ]
  },
  {
   "cell_type": "markdown",
   "id": "cde5a748-67de-4ad1-91f6-59ec4fc40b25",
   "metadata": {},
   "source": [
    "Q4. Explain the concept of gradient descent. How is it used in machine learning?\n"
   ]
  },
  {
   "cell_type": "code",
   "execution_count": null,
   "id": "905c93a5-baa7-4405-bf15-2baaf9da85e6",
   "metadata": {},
   "outputs": [],
   "source": [
    "# Answer:\n",
    "'''\n",
    "Gradient descent is an optimization algorithm used in machine learning to minimize the error (cost) function of a model by iteratively updating the model's parameters. \n",
    "It is commonly used in training machine learning models, including linear regression models.\n",
    "\n",
    "The concept of gradient descent involves taking steps in the direction of steepest descent of the cost function. \n",
    "It starts with an initial set of parameter values and calculates the gradient of the cost function with respect to each parameter. \n",
    "The parameters are then updated by subtracting a small fraction (learning rate) of the gradient from the current parameter values. \n",
    "This process is repeated iteratively until the algorithm converges to the optimal parameter values that minimize the cost function.\n",
    "\n",
    "Gradient descent is used in linear regression by adjusting the slope and intercept of the regression line to minimize the sum of squared residuals \n",
    "between the predicted values and the actual values of the dependent variable. It helps in finding the best-fit line that minimizes the error and provides the best predictions.\n",
    "'''\n"
   ]
  },
  {
   "cell_type": "markdown",
   "id": "5dfd9243-61c9-47b1-8e75-d4d3b95b0e40",
   "metadata": {},
   "source": [
    "Q5. Describe the multiple linear regression model. How does it differ from simple linear regression?\n"
   ]
  },
  {
   "cell_type": "code",
   "execution_count": null,
   "id": "c463405a-c3f1-4143-806a-35cbccf2c086",
   "metadata": {},
   "outputs": [],
   "source": [
    "# Answer:\n",
    "'''\n",
    "Multiple linear regression is an extension of simple linear regression that allows for the inclusion of multiple independent variables to predict the dependent variable. \n",
    "While simple linear regression involves only one independent variable, multiple linear regression involves two or more independent variables.\n",
    "\n",
    "The main difference from simple linear regression is that multiple linear regression allows for the consideration of multiple factors in predicting the dependent variable. \n",
    "It accounts for the combined effects of multiple independent variables on the dependent variable, enabling a more comprehensive analysis.\n",
    "'''"
   ]
  },
  {
   "cell_type": "markdown",
   "id": "318028fc-6d91-481a-9928-c1dc7595dbe9",
   "metadata": {},
   "source": [
    "Q6. Explain the concept of multicollinearity in multiple linear regression. How can you detect and\n",
    "address this issue?"
   ]
  },
  {
   "cell_type": "code",
   "execution_count": null,
   "id": "499af3d4-0b14-4217-9c11-f8fe50a80740",
   "metadata": {},
   "outputs": [],
   "source": [
    "# Answer:\n",
    "'''\n",
    "Multicollinearity refers to a situation in multiple linear regression when two or more independent variables are highly correlated with each other. \n",
    "It poses a problem because it becomes difficult to separate the individual effects of these variables on the dependent variable. \n",
    "It can lead to unstable and unreliable coefficient estimates and make it challenging to interpret the model accurately.\n",
    "\n",
    "To detect multicollinearity, some common approaches include:\n",
    "\n",
    "Calculating the correlation matrix or correlation coefficients between the independent variables.\n",
    "Calculating the variance inflation factor (VIF) for each independent variable. VIF measures how much the variance of a regression coefficient is inflated due to multicollinearity.\n",
    "Conducting hypothesis tests for the individual regression coefficients to identify large standard errors or non-significant coefficients.\n",
    "To address multicollinearity, some techniques include:\n",
    "\n",
    "Removing one or more highly correlated independent variables from the model.\n",
    "Combining correlated independent variables into composite variables.\n",
    "Collecting more data to reduce the impact of multicollinearity.\n",
    "'''"
   ]
  },
  {
   "cell_type": "markdown",
   "id": "6bd01376-5863-4073-abd4-038f531380a2",
   "metadata": {},
   "source": [
    "Q7. Describe the polynomial regression model. How is it different from linear regression?\n"
   ]
  },
  {
   "cell_type": "code",
   "execution_count": null,
   "id": "8c6c31d8-a031-4664-9c1d-4d554c50681c",
   "metadata": {},
   "outputs": [],
   "source": [
    "# Answer:\n",
    "'''\n",
    "Polynomial regression is a form of regression analysis where the relationship between the independent variable and the dependent variable is modeled as an nth-degree polynomial function. \n",
    "Unlike linear regression, which assumes a linear relationship, polynomial regression allows for non-linear relationships between the variables.\n",
    "\n",
    "Polynomial regression extends the linear regression model by including polynomial terms of the independent variable. For example, a second-degree polynomial regression model \n",
    "would include the squared term of the independent variable, while a third-degree polynomial regression model would include both the squared and cubed terms.\n",
    "\n",
    "The polynomial regression model equation is:\n",
    "\n",
    "Y = β₀ + β₁X + β₂X² + β₃X³ + ... + βₙXⁿ + ɛ\n",
    "\n",
    "where Y is the dependent variable, X is the independent variable, β₀, β₁, β₂, ..., βₙ are the regression coefficients, X², X³, ..., Xⁿ are the polynomial terms,\n",
    "and ɛ is the error term.\n",
    "'''"
   ]
  },
  {
   "cell_type": "markdown",
   "id": "62d86e48-8655-4a50-bf4b-9516e7edee84",
   "metadata": {},
   "source": [
    "Q8. What are the advantages and disadvantages of polynomial regression compared to linear\n",
    "regression? In what situations would you prefer to use polynomial regression?"
   ]
  },
  {
   "cell_type": "code",
   "execution_count": null,
   "id": "b5f91b98-5db4-4710-9e8a-ee2e10bfc5e2",
   "metadata": {},
   "outputs": [],
   "source": [
    "# Answer:\n",
    "'''\n",
    "Advantages of polynomial regression compared to linear regression:\n",
    "\n",
    "Captures non-linear relationships: Polynomial regression allows for modeling non-linear relationships between the independent and dependent variables.\n",
    "Flexibility: The degree of the polynomial can be adjusted to fit the complexity of the data and capture different patterns.\n",
    "Improved fit: Polynomial regression can provide a better fit to the data.\n",
    "'''"
   ]
  }
 ],
 "metadata": {
  "kernelspec": {
   "display_name": "Python 3 (ipykernel)",
   "language": "python",
   "name": "python3"
  },
  "language_info": {
   "codemirror_mode": {
    "name": "ipython",
    "version": 3
   },
   "file_extension": ".py",
   "mimetype": "text/x-python",
   "name": "python",
   "nbconvert_exporter": "python",
   "pygments_lexer": "ipython3",
   "version": "3.10.8"
  }
 },
 "nbformat": 4,
 "nbformat_minor": 5
}
